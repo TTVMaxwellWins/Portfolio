{
  "nbformat": 4,
  "nbformat_minor": 0,
  "metadata": {
    "kernelspec": {
      "display_name": "Python 3",
      "language": "python",
      "name": "python3"
    },
    "language_info": {
      "codemirror_mode": {
        "name": "ipython",
        "version": 3
      },
      "file_extension": ".py",
      "mimetype": "text/x-python",
      "name": "python",
      "nbconvert_exporter": "python",
      "pygments_lexer": "ipython3",
      "version": "3.6.6"
    },
    "colab": {
      "name": "Blackjack.ipynb",
      "provenance": [],
      "collapsed_sections": []
    }
  },
  "cells": [
    {
      "cell_type": "code",
      "metadata": {
        "id": "3z7oANmw_OXp",
        "colab_type": "code",
        "colab": {}
      },
      "source": [
        "import random\n",
        "\n",
        "suits = ('Hearts', 'Diamonds', 'Spades', 'Clubs')\n",
        "ranks = ('Two', 'Three', 'Four', 'Five', 'Six', 'Seven', 'Eight', 'Nine', 'Ten', 'Jack', 'Queen', 'King', 'Ace')\n",
        "values = {'Two':2, 'Three':3, 'Four':4, 'Five':5, 'Six':6, 'Seven':7, 'Eight':8, 'Nine':9, 'Ten':10, 'Jack':10,\n",
        "         'Queen':10, 'King':10, 'Ace':11}\n",
        "\n",
        "playing = True"
      ],
      "execution_count": 1,
      "outputs": []
    },
    {
      "cell_type": "code",
      "metadata": {
        "id": "I3qJsJt6_OXt",
        "colab_type": "code",
        "colab": {}
      },
      "source": [
        "class Card:\n",
        "    \n",
        "    def __init__(self, suit, rank):\n",
        "        \n",
        "        self.suit = suit\n",
        "        self.rank = rank\n",
        "    \n",
        "    def __str__(self):\n",
        "        return f'{self.rank}' + ' of ' + f'{self.suit}'"
      ],
      "execution_count": 2,
      "outputs": []
    },
    {
      "cell_type": "code",
      "metadata": {
        "id": "PV_6hEBh_OXx",
        "colab_type": "code",
        "colab": {}
      },
      "source": [
        "class Deck:\n",
        "    \n",
        "    def __init__(self):\n",
        "        self.deck = []\n",
        "        for suit in suits:\n",
        "            for rank in ranks:\n",
        "                created_card = Card(suit,rank)\n",
        "                self.deck.append(created_card)\n",
        "    \n",
        "    def __str__(self):\n",
        "        deck_comp = ''\n",
        "        for card in self.deck:\n",
        "            deck_comp += '\\n'+card.__str__()\n",
        "        return 'The deck has:' + deck_comp\n",
        "\n",
        "    def shuffle(self):\n",
        "        random.shuffle(self.deck)\n",
        "        \n",
        "    def deal(self):\n",
        "        single_card = self.deck.pop()\n",
        "        return single_card"
      ],
      "execution_count": 3,
      "outputs": []
    },
    {
      "cell_type": "code",
      "metadata": {
        "id": "h0KjFg0Q_OX1",
        "colab_type": "code",
        "colab": {
          "base_uri": "https://localhost:8080/",
          "height": 958
        },
        "outputId": "6822fa78-bc79-4c3b-deb9-944c908e8668"
      },
      "source": [
        "test_deck = Deck()\n",
        "print(test_deck)"
      ],
      "execution_count": 4,
      "outputs": [
        {
          "output_type": "stream",
          "text": [
            "The deck has:\n",
            "Two of Hearts\n",
            "Three of Hearts\n",
            "Four of Hearts\n",
            "Five of Hearts\n",
            "Six of Hearts\n",
            "Seven of Hearts\n",
            "Eight of Hearts\n",
            "Nine of Hearts\n",
            "Ten of Hearts\n",
            "Jack of Hearts\n",
            "Queen of Hearts\n",
            "King of Hearts\n",
            "Ace of Hearts\n",
            "Two of Diamonds\n",
            "Three of Diamonds\n",
            "Four of Diamonds\n",
            "Five of Diamonds\n",
            "Six of Diamonds\n",
            "Seven of Diamonds\n",
            "Eight of Diamonds\n",
            "Nine of Diamonds\n",
            "Ten of Diamonds\n",
            "Jack of Diamonds\n",
            "Queen of Diamonds\n",
            "King of Diamonds\n",
            "Ace of Diamonds\n",
            "Two of Spades\n",
            "Three of Spades\n",
            "Four of Spades\n",
            "Five of Spades\n",
            "Six of Spades\n",
            "Seven of Spades\n",
            "Eight of Spades\n",
            "Nine of Spades\n",
            "Ten of Spades\n",
            "Jack of Spades\n",
            "Queen of Spades\n",
            "King of Spades\n",
            "Ace of Spades\n",
            "Two of Clubs\n",
            "Three of Clubs\n",
            "Four of Clubs\n",
            "Five of Clubs\n",
            "Six of Clubs\n",
            "Seven of Clubs\n",
            "Eight of Clubs\n",
            "Nine of Clubs\n",
            "Ten of Clubs\n",
            "Jack of Clubs\n",
            "Queen of Clubs\n",
            "King of Clubs\n",
            "Ace of Clubs\n"
          ],
          "name": "stdout"
        }
      ]
    },
    {
      "cell_type": "code",
      "metadata": {
        "id": "kAA0nCuK_OX4",
        "colab_type": "code",
        "colab": {}
      },
      "source": [
        "class Hand:\n",
        "    def __init__(self):\n",
        "        self.cards = []  # start with an empty list as we did in the Deck class\n",
        "        self.value = 0   # start with zero value\n",
        "        self.aces = 0    # add an attribute to keep track of aces\n",
        "    \n",
        "    def add_card(self,card):\n",
        "        self.cards.append(card)\n",
        "        self.value += values[card.rank]\n",
        "        if card.rank == 'Ace':\n",
        "          self.aces += 1\n",
        "    \n",
        "    def adjust_for_ace(self):\n",
        "        while self.value > 21 and self.aces:\n",
        "          if self.aces > 0:\n",
        "            self.value -= 10\n",
        "            self.aces -= 1"
      ],
      "execution_count": 5,
      "outputs": []
    },
    {
      "cell_type": "code",
      "metadata": {
        "id": "d_DhxK_S_OX8",
        "colab_type": "code",
        "colab": {}
      },
      "source": [
        "class Chips:\n",
        "    \n",
        "    def __init__(self,total=100):\n",
        "        self.total = total\n",
        "        self.bet = 0\n",
        "        \n",
        "    def win_bet(self):\n",
        "        self.total += self.bet\n",
        "    \n",
        "    def lose_bet(self):\n",
        "        self.total -= self.bet "
      ],
      "execution_count": 6,
      "outputs": []
    },
    {
      "cell_type": "code",
      "metadata": {
        "id": "tN8U4h05_OYA",
        "colab_type": "code",
        "colab": {}
      },
      "source": [
        "def take_bet(chips):\n",
        "    \n",
        "    while True:\n",
        "      try:\n",
        "        chips.bet = int(input('Place your bet: '))\n",
        "      except:\n",
        "        print(\"That didn't work.  Please try again.\")\n",
        "      else:\n",
        "        if chips.bet > chips.total:\n",
        "          print(f'Your bet cannot exceed {chips.total}. Please try again.')\n",
        "        else:\n",
        "          break\n"
      ],
      "execution_count": 7,
      "outputs": []
    },
    {
      "cell_type": "code",
      "metadata": {
        "id": "Ex22Fctr_OYD",
        "colab_type": "code",
        "colab": {}
      },
      "source": [
        "def hit(deck,hand):\n",
        "    \n",
        "    hand.add_card(deck.deal())\n",
        "    hand.adjust_for_ace"
      ],
      "execution_count": 8,
      "outputs": []
    },
    {
      "cell_type": "code",
      "metadata": {
        "id": "gO281-NV_OYH",
        "colab_type": "code",
        "colab": {}
      },
      "source": [
        "def hit_or_stand(deck,hand):\n",
        "    global playing  # to control an upcoming while loop\n",
        "    \n",
        "    while True:\n",
        "      hit_or_stand = input(\"Hit or Stand? ('h' or 's')\")\n",
        "\n",
        "      if hit_or_stand.lower() == 'h':\n",
        "        hit(deck,hand)\n",
        "\n",
        "      elif hit_or_stand.lower() == 's':\n",
        "        print(\"Player stands.  Dealer's turn\")\n",
        "        playing = False\n",
        "\n",
        "      else:\n",
        "        print(\"Please type either 'h' or 's'\")\n",
        "        continue\n",
        "      break"
      ],
      "execution_count": 9,
      "outputs": []
    },
    {
      "cell_type": "code",
      "metadata": {
        "id": "yIk7Nr61_OYK",
        "colab_type": "code",
        "colab": {}
      },
      "source": [
        "def show_some(player,dealer):\n",
        "    \n",
        "    print(\"\\nDealer's Hand:\")\n",
        "    print(\" <card hidden>\")\n",
        "    print('',dealer.cards[1])\n",
        "    print(\"\\nPlayer's Hand:\", *player.cards, sep='\\n ') #'\\n'.join([i for i in player.cards])\n",
        "    \n",
        "def show_all(player,dealer):\n",
        "    \n",
        "    print(\"\\nDealer's Hand:\", *dealer.cards, sep='\\n ')\n",
        "    print(\"Dealer's Hand =\",dealer.value)\n",
        "    print(\"\\nPlayer's Hand:\", *player.cards, sep='\\n ')\n",
        "    print(\"Player's Hand =\",player.value)"
      ],
      "execution_count": 10,
      "outputs": []
    },
    {
      "cell_type": "code",
      "metadata": {
        "id": "qjCt9_O2_OYO",
        "colab_type": "code",
        "colab": {}
      },
      "source": [
        "def player_busts(player,dealer,chips):\n",
        "    print(\"BUST!\")\n",
        "    chips.lose_bet()\n",
        "\n",
        "def player_wins(player,dealer,chips):\n",
        "    print(\"YOU WIN!\")\n",
        "    chips.win_bet()\n",
        "\n",
        "def dealer_busts(player,dealer,chips):\n",
        "    print('DEALER BUSTS!')\n",
        "    chips.win_bet()\n",
        "\n",
        "def dealer_wins(player,dealer,chips):\n",
        "    print('DEALER WINS')\n",
        "    chips.lose_bet()\n",
        "    \n",
        "def push(player,dealer):\n",
        "    print(\"YOU TIED THE DEALER! IT'S A PUSH\")"
      ],
      "execution_count": 11,
      "outputs": []
    },
    {
      "cell_type": "code",
      "metadata": {
        "id": "sK0Z4Fn4_OYR",
        "colab_type": "code",
        "colab": {
          "base_uri": "https://localhost:8080/",
          "height": 1000
        },
        "outputId": "a3015852-9def-4711-9b9b-743c668def17"
      },
      "source": [
        "while True:\n",
        "    # Print an opening statement\n",
        "    print(\"IT'S TIME TO PLAY BLACKJACK!\")\n",
        "    \n",
        "    # Create & shuffle the deck, deal two cards to each player\n",
        "    deck = Deck()\n",
        "    deck.shuffle()\n",
        "\n",
        "    player_hand = Hand()\n",
        "    player_hand.add_card(deck.deal())\n",
        "    player_hand.add_card(deck.deal())\n",
        "\n",
        "    dealer_hand = Hand()\n",
        "    dealer_hand.add_card(deck.deal())  \n",
        "    dealer_hand.add_card(deck.deal())  \n",
        "        \n",
        "    # Set up the Player's chips\n",
        "    player_chips = Chips(500)\n",
        "    print(f\"You have {player_chips.total} chips!  Use them wisely.\")\n",
        "    \n",
        "    # Prompt the Player for their bet\n",
        "    take_bet(player_chips)\n",
        "    \n",
        "    # Show cards (but keep one dealer card hidden)\n",
        "    show_some(player_hand,dealer_hand)\n",
        "    \n",
        "    while playing:  # recall this variable from our hit_or_stand function\n",
        "        \n",
        "        # Prompt for Player to Hit or Stand\n",
        "        hit_or_stand(deck, player_hand)\n",
        "        \n",
        "        # Show cards (but keep one dealer card hidden)\n",
        "        show_some(player_hand,dealer_hand)\n",
        "        \n",
        "        # If player's hand exceeds 21, run player_busts() and break out of loop\n",
        "        if player_hand.value > 21:\n",
        "          player_busts(player_hand,dealer_hand,player_chips)\n",
        "          break\n",
        "\n",
        "    # If Player hasn't busted, play Dealer's hand until Dealer reaches 17\n",
        "    if player_hand.value <= 21:\n",
        "        while dealer_hand.value < 17:\n",
        "          dealer_hand.add_card(deck.deal())\n",
        "      \n",
        "          # Show all cards\n",
        "        show_all(player_hand,dealer_hand)\n",
        "          # Run different winning scenarios\n",
        "        if dealer_hand.value > 21:\n",
        "          dealer_busts(player_hand,dealer_hand,player_chips)\n",
        "\n",
        "        elif player_hand.value > dealer_hand.value:\n",
        "          player_wins(player_hand,dealer_hand,player_chips)\n",
        "\n",
        "        elif player_hand.value < dealer_hand.value:\n",
        "          dealer_wins(player_hand,dealer_hand,player_chips)\n",
        "            \n",
        "        elif player_hand.value == dealer_hand.value:\n",
        "          push(player_hand,dealer_hand)\n",
        "\n",
        "\n",
        "\n",
        "    # Inform Player of their chips total \n",
        "    print(\"Total Chips Remaining: \", player_chips.total)\n",
        "\n",
        "    # Ask to play again\n",
        "    yes_or_no = input(\"Would you like to play again? ('y'/'n')\")\n",
        "\n",
        "    if yes_or_no.lower() == 'y':\n",
        "      playing = True\n",
        "      continue\n",
        "    else:\n",
        "      print(\"Please Hire Me!\")\n",
        "      break\n",
        "\n",
        "    \n",
        "\n"
      ],
      "execution_count": 12,
      "outputs": [
        {
          "output_type": "stream",
          "text": [
            "IT'S TIME TO PLAY BLACKJACK!\n",
            "You have 500 chips!  Use them wisely.\n",
            "Place your bet: 400\n",
            "\n",
            "Dealer's Hand:\n",
            " <card hidden>\n",
            " Eight of Diamonds\n",
            "\n",
            "Player's Hand:\n",
            " Four of Clubs\n",
            " Four of Hearts\n",
            "Hit or Stand? ('h' or 's')h\n",
            "\n",
            "Dealer's Hand:\n",
            " <card hidden>\n",
            " Eight of Diamonds\n",
            "\n",
            "Player's Hand:\n",
            " Four of Clubs\n",
            " Four of Hearts\n",
            " Seven of Spades\n",
            "Hit or Stand? ('h' or 's')h\n",
            "\n",
            "Dealer's Hand:\n",
            " <card hidden>\n",
            " Eight of Diamonds\n",
            "\n",
            "Player's Hand:\n",
            " Four of Clubs\n",
            " Four of Hearts\n",
            " Seven of Spades\n",
            " Eight of Spades\n",
            "BUST!\n",
            "Total Chips Remaining:  100\n",
            "Would you like to play again? ('y'/'n')y\n",
            "IT'S TIME TO PLAY BLACKJACK!\n",
            "You have 500 chips!  Use them wisely.\n",
            "Place your bet: 500\n",
            "\n",
            "Dealer's Hand:\n",
            " <card hidden>\n",
            " Four of Spades\n",
            "\n",
            "Player's Hand:\n",
            " Two of Spades\n",
            " Jack of Clubs\n"
          ],
          "name": "stdout"
        },
        {
          "output_type": "error",
          "ename": "KeyboardInterrupt",
          "evalue": "ignored",
          "traceback": [
            "\u001b[0;31m---------------------------------------------------------------------------\u001b[0m",
            "\u001b[0;31mKeyboardInterrupt\u001b[0m                         Traceback (most recent call last)",
            "\u001b[0;32m/usr/local/lib/python3.6/dist-packages/ipykernel/kernelbase.py\u001b[0m in \u001b[0;36m_input_request\u001b[0;34m(self, prompt, ident, parent, password)\u001b[0m\n\u001b[1;32m    728\u001b[0m             \u001b[0;32mtry\u001b[0m\u001b[0;34m:\u001b[0m\u001b[0;34m\u001b[0m\u001b[0;34m\u001b[0m\u001b[0m\n\u001b[0;32m--> 729\u001b[0;31m                 \u001b[0mident\u001b[0m\u001b[0;34m,\u001b[0m \u001b[0mreply\u001b[0m \u001b[0;34m=\u001b[0m \u001b[0mself\u001b[0m\u001b[0;34m.\u001b[0m\u001b[0msession\u001b[0m\u001b[0;34m.\u001b[0m\u001b[0mrecv\u001b[0m\u001b[0;34m(\u001b[0m\u001b[0mself\u001b[0m\u001b[0;34m.\u001b[0m\u001b[0mstdin_socket\u001b[0m\u001b[0;34m,\u001b[0m \u001b[0;36m0\u001b[0m\u001b[0;34m)\u001b[0m\u001b[0;34m\u001b[0m\u001b[0;34m\u001b[0m\u001b[0m\n\u001b[0m\u001b[1;32m    730\u001b[0m             \u001b[0;32mexcept\u001b[0m \u001b[0mException\u001b[0m\u001b[0;34m:\u001b[0m\u001b[0;34m\u001b[0m\u001b[0;34m\u001b[0m\u001b[0m\n",
            "\u001b[0;32m/usr/local/lib/python3.6/dist-packages/jupyter_client/session.py\u001b[0m in \u001b[0;36mrecv\u001b[0;34m(self, socket, mode, content, copy)\u001b[0m\n\u001b[1;32m    802\u001b[0m         \u001b[0;32mtry\u001b[0m\u001b[0;34m:\u001b[0m\u001b[0;34m\u001b[0m\u001b[0;34m\u001b[0m\u001b[0m\n\u001b[0;32m--> 803\u001b[0;31m             \u001b[0mmsg_list\u001b[0m \u001b[0;34m=\u001b[0m \u001b[0msocket\u001b[0m\u001b[0;34m.\u001b[0m\u001b[0mrecv_multipart\u001b[0m\u001b[0;34m(\u001b[0m\u001b[0mmode\u001b[0m\u001b[0;34m,\u001b[0m \u001b[0mcopy\u001b[0m\u001b[0;34m=\u001b[0m\u001b[0mcopy\u001b[0m\u001b[0;34m)\u001b[0m\u001b[0;34m\u001b[0m\u001b[0;34m\u001b[0m\u001b[0m\n\u001b[0m\u001b[1;32m    804\u001b[0m         \u001b[0;32mexcept\u001b[0m \u001b[0mzmq\u001b[0m\u001b[0;34m.\u001b[0m\u001b[0mZMQError\u001b[0m \u001b[0;32mas\u001b[0m \u001b[0me\u001b[0m\u001b[0;34m:\u001b[0m\u001b[0;34m\u001b[0m\u001b[0;34m\u001b[0m\u001b[0m\n",
            "\u001b[0;32m/usr/local/lib/python3.6/dist-packages/zmq/sugar/socket.py\u001b[0m in \u001b[0;36mrecv_multipart\u001b[0;34m(self, flags, copy, track)\u001b[0m\n\u001b[1;32m    490\u001b[0m         \"\"\"\n\u001b[0;32m--> 491\u001b[0;31m         \u001b[0mparts\u001b[0m \u001b[0;34m=\u001b[0m \u001b[0;34m[\u001b[0m\u001b[0mself\u001b[0m\u001b[0;34m.\u001b[0m\u001b[0mrecv\u001b[0m\u001b[0;34m(\u001b[0m\u001b[0mflags\u001b[0m\u001b[0;34m,\u001b[0m \u001b[0mcopy\u001b[0m\u001b[0;34m=\u001b[0m\u001b[0mcopy\u001b[0m\u001b[0;34m,\u001b[0m \u001b[0mtrack\u001b[0m\u001b[0;34m=\u001b[0m\u001b[0mtrack\u001b[0m\u001b[0;34m)\u001b[0m\u001b[0;34m]\u001b[0m\u001b[0;34m\u001b[0m\u001b[0;34m\u001b[0m\u001b[0m\n\u001b[0m\u001b[1;32m    492\u001b[0m         \u001b[0;31m# have first part already, only loop while more to receive\u001b[0m\u001b[0;34m\u001b[0m\u001b[0;34m\u001b[0m\u001b[0;34m\u001b[0m\u001b[0m\n",
            "\u001b[0;32mzmq/backend/cython/socket.pyx\u001b[0m in \u001b[0;36mzmq.backend.cython.socket.Socket.recv\u001b[0;34m()\u001b[0m\n",
            "\u001b[0;32mzmq/backend/cython/socket.pyx\u001b[0m in \u001b[0;36mzmq.backend.cython.socket.Socket.recv\u001b[0;34m()\u001b[0m\n",
            "\u001b[0;32mzmq/backend/cython/socket.pyx\u001b[0m in \u001b[0;36mzmq.backend.cython.socket._recv_copy\u001b[0;34m()\u001b[0m\n",
            "\u001b[0;32m/usr/local/lib/python3.6/dist-packages/zmq/backend/cython/checkrc.pxd\u001b[0m in \u001b[0;36mzmq.backend.cython.checkrc._check_rc\u001b[0;34m()\u001b[0m\n",
            "\u001b[0;31mKeyboardInterrupt\u001b[0m: ",
            "\nDuring handling of the above exception, another exception occurred:\n",
            "\u001b[0;31mKeyboardInterrupt\u001b[0m                         Traceback (most recent call last)",
            "\u001b[0;32m<ipython-input-12-58c38f931eae>\u001b[0m in \u001b[0;36m<module>\u001b[0;34m()\u001b[0m\n\u001b[1;32m     28\u001b[0m \u001b[0;34m\u001b[0m\u001b[0m\n\u001b[1;32m     29\u001b[0m         \u001b[0;31m# Prompt for Player to Hit or Stand\u001b[0m\u001b[0;34m\u001b[0m\u001b[0;34m\u001b[0m\u001b[0;34m\u001b[0m\u001b[0m\n\u001b[0;32m---> 30\u001b[0;31m         \u001b[0mhit_or_stand\u001b[0m\u001b[0;34m(\u001b[0m\u001b[0mdeck\u001b[0m\u001b[0;34m,\u001b[0m \u001b[0mplayer_hand\u001b[0m\u001b[0;34m)\u001b[0m\u001b[0;34m\u001b[0m\u001b[0;34m\u001b[0m\u001b[0m\n\u001b[0m\u001b[1;32m     31\u001b[0m \u001b[0;34m\u001b[0m\u001b[0m\n\u001b[1;32m     32\u001b[0m         \u001b[0;31m# Show cards (but keep one dealer card hidden)\u001b[0m\u001b[0;34m\u001b[0m\u001b[0;34m\u001b[0m\u001b[0;34m\u001b[0m\u001b[0m\n",
            "\u001b[0;32m<ipython-input-9-4427e55dfe4a>\u001b[0m in \u001b[0;36mhit_or_stand\u001b[0;34m(deck, hand)\u001b[0m\n\u001b[1;32m      3\u001b[0m \u001b[0;34m\u001b[0m\u001b[0m\n\u001b[1;32m      4\u001b[0m     \u001b[0;32mwhile\u001b[0m \u001b[0;32mTrue\u001b[0m\u001b[0;34m:\u001b[0m\u001b[0;34m\u001b[0m\u001b[0;34m\u001b[0m\u001b[0m\n\u001b[0;32m----> 5\u001b[0;31m       \u001b[0mhit_or_stand\u001b[0m \u001b[0;34m=\u001b[0m \u001b[0minput\u001b[0m\u001b[0;34m(\u001b[0m\u001b[0;34m\"Hit or Stand? ('h' or 's')\"\u001b[0m\u001b[0;34m)\u001b[0m\u001b[0;34m\u001b[0m\u001b[0;34m\u001b[0m\u001b[0m\n\u001b[0m\u001b[1;32m      6\u001b[0m \u001b[0;34m\u001b[0m\u001b[0m\n\u001b[1;32m      7\u001b[0m       \u001b[0;32mif\u001b[0m \u001b[0mhit_or_stand\u001b[0m\u001b[0;34m.\u001b[0m\u001b[0mlower\u001b[0m\u001b[0;34m(\u001b[0m\u001b[0;34m)\u001b[0m \u001b[0;34m==\u001b[0m \u001b[0;34m'h'\u001b[0m\u001b[0;34m:\u001b[0m\u001b[0;34m\u001b[0m\u001b[0;34m\u001b[0m\u001b[0m\n",
            "\u001b[0;32m/usr/local/lib/python3.6/dist-packages/ipykernel/kernelbase.py\u001b[0m in \u001b[0;36mraw_input\u001b[0;34m(self, prompt)\u001b[0m\n\u001b[1;32m    702\u001b[0m             \u001b[0mself\u001b[0m\u001b[0;34m.\u001b[0m\u001b[0m_parent_ident\u001b[0m\u001b[0;34m,\u001b[0m\u001b[0;34m\u001b[0m\u001b[0;34m\u001b[0m\u001b[0m\n\u001b[1;32m    703\u001b[0m             \u001b[0mself\u001b[0m\u001b[0;34m.\u001b[0m\u001b[0m_parent_header\u001b[0m\u001b[0;34m,\u001b[0m\u001b[0;34m\u001b[0m\u001b[0;34m\u001b[0m\u001b[0m\n\u001b[0;32m--> 704\u001b[0;31m             \u001b[0mpassword\u001b[0m\u001b[0;34m=\u001b[0m\u001b[0;32mFalse\u001b[0m\u001b[0;34m,\u001b[0m\u001b[0;34m\u001b[0m\u001b[0;34m\u001b[0m\u001b[0m\n\u001b[0m\u001b[1;32m    705\u001b[0m         )\n\u001b[1;32m    706\u001b[0m \u001b[0;34m\u001b[0m\u001b[0m\n",
            "\u001b[0;32m/usr/local/lib/python3.6/dist-packages/ipykernel/kernelbase.py\u001b[0m in \u001b[0;36m_input_request\u001b[0;34m(self, prompt, ident, parent, password)\u001b[0m\n\u001b[1;32m    732\u001b[0m             \u001b[0;32mexcept\u001b[0m \u001b[0mKeyboardInterrupt\u001b[0m\u001b[0;34m:\u001b[0m\u001b[0;34m\u001b[0m\u001b[0;34m\u001b[0m\u001b[0m\n\u001b[1;32m    733\u001b[0m                 \u001b[0;31m# re-raise KeyboardInterrupt, to truncate traceback\u001b[0m\u001b[0;34m\u001b[0m\u001b[0;34m\u001b[0m\u001b[0;34m\u001b[0m\u001b[0m\n\u001b[0;32m--> 734\u001b[0;31m                 \u001b[0;32mraise\u001b[0m \u001b[0mKeyboardInterrupt\u001b[0m\u001b[0;34m\u001b[0m\u001b[0;34m\u001b[0m\u001b[0m\n\u001b[0m\u001b[1;32m    735\u001b[0m             \u001b[0;32melse\u001b[0m\u001b[0;34m:\u001b[0m\u001b[0;34m\u001b[0m\u001b[0;34m\u001b[0m\u001b[0m\n\u001b[1;32m    736\u001b[0m                 \u001b[0;32mbreak\u001b[0m\u001b[0;34m\u001b[0m\u001b[0;34m\u001b[0m\u001b[0m\n",
            "\u001b[0;31mKeyboardInterrupt\u001b[0m: "
          ]
        }
      ]
    },
    {
      "cell_type": "markdown",
      "metadata": {
        "id": "fuzzr5AA_OYU",
        "colab_type": "text"
      },
      "source": [
        "And that's it! Remember, these steps may differ significantly from your own solution. That's OK! Keep working on different sections of your program until you get the desired results. It takes a lot of time and patience! As always, feel free to post questions and comments to the QA Forums.\n",
        "# Good job!"
      ]
    }
  ]
}